{
 "cells": [
  {
   "cell_type": "markdown",
   "metadata": {},
   "source": [
    "- Use the given dataset of LoanPrediction to predicts if a loan will get approved or not.\n",
    "\n",
    "- Dataset- The data has 615 rows and 13 columns.\n",
    "\n",
    "- Dataset Description- Loan_ID - Unique Loan ID,Gender - Male/ Female,Married- Applicant married (Y/N),Dependents - Number of dependents,Education - Applicant Education (Graduate/ Under Graduate)\n",
    "\n",
    "\t\t     Self_Employed - Self employed (Y/N),ApplicantIncome - Applicant income,CoapplicantIncome - Coapplicant income,LoanAmount - Loan amount in thousands\n",
    "\n",
    "\t\t     Loan_Amount_Term - Term of loan in months,Credit_History - credit history meets guidelines,Property_Area - Urban/ Semi Urban/ Rural\n",
    "\n",
    "\t\t     Loan_Status - Loan approved (Y/N)\n",
    "\n",
    "- 1)Find the count of missing values in train dataset(train.csv)?\n",
    "\n",
    "- 2)Combine both the test and train datasets.\n",
    "\n",
    "- 3)Convert Gender,Married,Dependents,Education,Self_Employed,Property_Area into numeric form depending on column?\n",
    "\n",
    "- 4)Also show the count for each column mentioned above after converting into numeric form?\n",
    "\n",
    "- 5)Fill the missing values in Married,Gender,Self_Employed with randint, LoanAmount and Dependents with median,Loan_Amount_Term with mean ?\n",
    "\n",
    "- 6)Finally apply any classification Model and calculate Accuracy ?"
   ]
  },
  {
   "cell_type": "code",
   "execution_count": 1,
   "metadata": {},
   "outputs": [],
   "source": [
    "import pandas as pd\n",
    "import numpy as np"
   ]
  },
  {
   "cell_type": "code",
   "execution_count": 2,
   "metadata": {},
   "outputs": [],
   "source": [
    "train_data = pd.read_csv(\"train.csv\")\n",
    "test_data = pd.read_csv(\"test.csv\")"
   ]
  },
  {
   "cell_type": "markdown",
   "metadata": {},
   "source": [
    "### 1)Find the count of missing values in train dataset(train.csv)?"
   ]
  },
  {
   "cell_type": "code",
   "execution_count": 3,
   "metadata": {},
   "outputs": [
    {
     "data": {
      "text/plain": [
       "Loan_ID               0\n",
       "Gender               13\n",
       "Married               3\n",
       "Dependents           15\n",
       "Education             0\n",
       "Self_Employed        32\n",
       "ApplicantIncome       0\n",
       "CoapplicantIncome     0\n",
       "LoanAmount           22\n",
       "Loan_Amount_Term     14\n",
       "Credit_History       50\n",
       "Property_Area         0\n",
       "Loan_Status           0\n",
       "dtype: int64"
      ]
     },
     "execution_count": 3,
     "metadata": {},
     "output_type": "execute_result"
    }
   ],
   "source": [
    "train_data.isnull().sum()"
   ]
  },
  {
   "cell_type": "markdown",
   "metadata": {},
   "source": [
    "### 2)Combine both the test and train datasets."
   ]
  },
  {
   "cell_type": "code",
   "execution_count": 4,
   "metadata": {},
   "outputs": [
    {
     "name": "stderr",
     "output_type": "stream",
     "text": [
      "C:\\Users\\aditya\\Anaconda3\\lib\\site-packages\\pandas\\core\\frame.py:6692: FutureWarning: Sorting because non-concatenation axis is not aligned. A future version\n",
      "of pandas will change to not sort by default.\n",
      "\n",
      "To accept the future behavior, pass 'sort=False'.\n",
      "\n",
      "To retain the current behavior and silence the warning, pass 'sort=True'.\n",
      "\n",
      "  sort=sort)\n"
     ]
    },
    {
     "data": {
      "text/html": [
       "<div>\n",
       "<style scoped>\n",
       "    .dataframe tbody tr th:only-of-type {\n",
       "        vertical-align: middle;\n",
       "    }\n",
       "\n",
       "    .dataframe tbody tr th {\n",
       "        vertical-align: top;\n",
       "    }\n",
       "\n",
       "    .dataframe thead th {\n",
       "        text-align: right;\n",
       "    }\n",
       "</style>\n",
       "<table border=\"1\" class=\"dataframe\">\n",
       "  <thead>\n",
       "    <tr style=\"text-align: right;\">\n",
       "      <th></th>\n",
       "      <th>ApplicantIncome</th>\n",
       "      <th>CoapplicantIncome</th>\n",
       "      <th>Credit_History</th>\n",
       "      <th>Dependents</th>\n",
       "      <th>Education</th>\n",
       "      <th>Gender</th>\n",
       "      <th>LoanAmount</th>\n",
       "      <th>Loan_Amount_Term</th>\n",
       "      <th>Loan_ID</th>\n",
       "      <th>Loan_Status</th>\n",
       "      <th>Married</th>\n",
       "      <th>Property_Area</th>\n",
       "      <th>Self_Employed</th>\n",
       "    </tr>\n",
       "  </thead>\n",
       "  <tbody>\n",
       "    <tr>\n",
       "      <th>0</th>\n",
       "      <td>5849</td>\n",
       "      <td>0.0</td>\n",
       "      <td>1.0</td>\n",
       "      <td>0</td>\n",
       "      <td>Graduate</td>\n",
       "      <td>Male</td>\n",
       "      <td>NaN</td>\n",
       "      <td>360.0</td>\n",
       "      <td>LP001002</td>\n",
       "      <td>Y</td>\n",
       "      <td>No</td>\n",
       "      <td>Urban</td>\n",
       "      <td>No</td>\n",
       "    </tr>\n",
       "    <tr>\n",
       "      <th>1</th>\n",
       "      <td>4583</td>\n",
       "      <td>1508.0</td>\n",
       "      <td>1.0</td>\n",
       "      <td>1</td>\n",
       "      <td>Graduate</td>\n",
       "      <td>Male</td>\n",
       "      <td>128.0</td>\n",
       "      <td>360.0</td>\n",
       "      <td>LP001003</td>\n",
       "      <td>N</td>\n",
       "      <td>Yes</td>\n",
       "      <td>Rural</td>\n",
       "      <td>No</td>\n",
       "    </tr>\n",
       "    <tr>\n",
       "      <th>2</th>\n",
       "      <td>3000</td>\n",
       "      <td>0.0</td>\n",
       "      <td>1.0</td>\n",
       "      <td>0</td>\n",
       "      <td>Graduate</td>\n",
       "      <td>Male</td>\n",
       "      <td>66.0</td>\n",
       "      <td>360.0</td>\n",
       "      <td>LP001005</td>\n",
       "      <td>Y</td>\n",
       "      <td>Yes</td>\n",
       "      <td>Urban</td>\n",
       "      <td>Yes</td>\n",
       "    </tr>\n",
       "    <tr>\n",
       "      <th>3</th>\n",
       "      <td>2583</td>\n",
       "      <td>2358.0</td>\n",
       "      <td>1.0</td>\n",
       "      <td>0</td>\n",
       "      <td>Not Graduate</td>\n",
       "      <td>Male</td>\n",
       "      <td>120.0</td>\n",
       "      <td>360.0</td>\n",
       "      <td>LP001006</td>\n",
       "      <td>Y</td>\n",
       "      <td>Yes</td>\n",
       "      <td>Urban</td>\n",
       "      <td>No</td>\n",
       "    </tr>\n",
       "    <tr>\n",
       "      <th>4</th>\n",
       "      <td>6000</td>\n",
       "      <td>0.0</td>\n",
       "      <td>1.0</td>\n",
       "      <td>0</td>\n",
       "      <td>Graduate</td>\n",
       "      <td>Male</td>\n",
       "      <td>141.0</td>\n",
       "      <td>360.0</td>\n",
       "      <td>LP001008</td>\n",
       "      <td>Y</td>\n",
       "      <td>No</td>\n",
       "      <td>Urban</td>\n",
       "      <td>No</td>\n",
       "    </tr>\n",
       "  </tbody>\n",
       "</table>\n",
       "</div>"
      ],
      "text/plain": [
       "   ApplicantIncome  CoapplicantIncome  Credit_History Dependents  \\\n",
       "0             5849                0.0             1.0          0   \n",
       "1             4583             1508.0             1.0          1   \n",
       "2             3000                0.0             1.0          0   \n",
       "3             2583             2358.0             1.0          0   \n",
       "4             6000                0.0             1.0          0   \n",
       "\n",
       "      Education Gender  LoanAmount  Loan_Amount_Term   Loan_ID Loan_Status  \\\n",
       "0      Graduate   Male         NaN             360.0  LP001002           Y   \n",
       "1      Graduate   Male       128.0             360.0  LP001003           N   \n",
       "2      Graduate   Male        66.0             360.0  LP001005           Y   \n",
       "3  Not Graduate   Male       120.0             360.0  LP001006           Y   \n",
       "4      Graduate   Male       141.0             360.0  LP001008           Y   \n",
       "\n",
       "  Married Property_Area Self_Employed  \n",
       "0      No         Urban            No  \n",
       "1     Yes         Rural            No  \n",
       "2     Yes         Urban           Yes  \n",
       "3     Yes         Urban            No  \n",
       "4      No         Urban            No  "
      ]
     },
     "execution_count": 4,
     "metadata": {},
     "output_type": "execute_result"
    }
   ],
   "source": [
    "total_data = train_data.append(test_data)\n",
    "total_data.head()"
   ]
  },
  {
   "cell_type": "code",
   "execution_count": 5,
   "metadata": {},
   "outputs": [
    {
     "data": {
      "text/plain": [
       "(981, 13)"
      ]
     },
     "execution_count": 5,
     "metadata": {},
     "output_type": "execute_result"
    }
   ],
   "source": [
    "total_data.shape"
   ]
  },
  {
   "cell_type": "markdown",
   "metadata": {},
   "source": [
    "### 3)Convert Gender,Married,Dependents,Education,Self_Employed,Property_Area into numeric form depending on column?"
   ]
  },
  {
   "cell_type": "code",
   "execution_count": 6,
   "metadata": {},
   "outputs": [],
   "source": [
    "data = pd.get_dummies(total_data,columns = ['Gender','Married','Dependents','Education','Self_Employed','Property_Area'])"
   ]
  },
  {
   "cell_type": "code",
   "execution_count": 7,
   "metadata": {},
   "outputs": [
    {
     "data": {
      "text/plain": [
       "Index(['ApplicantIncome', 'CoapplicantIncome', 'Credit_History', 'LoanAmount',\n",
       "       'Loan_Amount_Term', 'Loan_ID', 'Loan_Status', 'Gender_Female',\n",
       "       'Gender_Male', 'Married_No', 'Married_Yes', 'Dependents_0',\n",
       "       'Dependents_1', 'Dependents_2', 'Dependents_3+', 'Education_Graduate',\n",
       "       'Education_Not Graduate', 'Self_Employed_No', 'Self_Employed_Yes',\n",
       "       'Property_Area_Rural', 'Property_Area_Semiurban',\n",
       "       'Property_Area_Urban'],\n",
       "      dtype='object')"
      ]
     },
     "execution_count": 7,
     "metadata": {},
     "output_type": "execute_result"
    }
   ],
   "source": [
    "data.columns"
   ]
  },
  {
   "cell_type": "markdown",
   "metadata": {},
   "source": [
    "### 4)Also show the count for each column mentioned above after converting into numeric form?"
   ]
  },
  {
   "cell_type": "code",
   "execution_count": 9,
   "metadata": {},
   "outputs": [
    {
     "name": "stdout",
     "output_type": "stream",
     "text": [
      "Gender_Female : 182\n",
      "Gender_Male : 775\n",
      "Married_No : 347\n",
      "Married_Yes : 631\n",
      "Dependents_0 : 545\n",
      "Dependents_1 : 160\n",
      "Dependents_2 : 160\n",
      "Dependents_3+ : 91\n",
      "Education_Graduate : 763\n",
      "Education_Not Graduate : 218\n",
      "Self_Employed_No : 807\n",
      "Self_Employed_Yes : 119\n",
      "Property_Area_Rural : 290\n",
      "Property_Area_Semiurban : 349\n",
      "Property_Area_Urban : 342\n"
     ]
    }
   ],
   "source": [
    "columns = ['Gender_Female','Gender_Male',\n",
    "           'Married_No','Married_Yes',\n",
    "           'Dependents_0','Dependents_1','Dependents_2','Dependents_3+',\n",
    "           'Education_Graduate','Education_Not Graduate',\n",
    "           'Self_Employed_No','Self_Employed_Yes',\n",
    "           'Property_Area_Rural','Property_Area_Semiurban','Property_Area_Urban']\n",
    "for column in data[columns]:\n",
    "    print('{} : {}'.format(column,data[column].sum()))"
   ]
  },
  {
   "cell_type": "markdown",
   "metadata": {},
   "source": [
    "### 5)Fill the missing values in Married,Gender,Self_Employed with randint, LoanAmount and Dependents with median,Loan_Amount_Term with mean ?"
   ]
  },
  {
   "cell_type": "code",
   "execution_count": 74,
   "metadata": {},
   "outputs": [],
   "source": [
    "c1 = ['Married','Gender','Self_Employed']\n",
    "for i in total_data[c1]:\n",
    "    total_data[i].fillna(np.random.randint(0,2),inplace=True)\n",
    "total_data['Dependents'].replace('3+',3,inplace=True)\n",
    "c2 = ['LoanAmount','Dependents']\n",
    "for i in total_data[c2]:\n",
    "    total_data[i].fillna(total_data[i].notnull().mean(),inplace=True)"
   ]
  },
  {
   "cell_type": "code",
   "execution_count": 75,
   "metadata": {},
   "outputs": [
    {
     "data": {
      "text/plain": [
       "ApplicantIncome        0\n",
       "CoapplicantIncome      0\n",
       "Credit_History        79\n",
       "Dependents             0\n",
       "Education              0\n",
       "Gender                 0\n",
       "LoanAmount             0\n",
       "Loan_Amount_Term      20\n",
       "Loan_ID                0\n",
       "Loan_Status          367\n",
       "Married                0\n",
       "Property_Area          0\n",
       "Self_Employed          0\n",
       "dtype: int64"
      ]
     },
     "execution_count": 75,
     "metadata": {},
     "output_type": "execute_result"
    }
   ],
   "source": [
    "total_data.isnull().sum()"
   ]
  },
  {
   "cell_type": "code",
   "execution_count": null,
   "metadata": {},
   "outputs": [],
   "source": []
  }
 ],
 "metadata": {
  "kernelspec": {
   "display_name": "Python 3",
   "language": "python",
   "name": "python3"
  },
  "language_info": {
   "codemirror_mode": {
    "name": "ipython",
    "version": 3
   },
   "file_extension": ".py",
   "mimetype": "text/x-python",
   "name": "python",
   "nbconvert_exporter": "python",
   "pygments_lexer": "ipython3",
   "version": "3.7.3"
  }
 },
 "nbformat": 4,
 "nbformat_minor": 2
}
