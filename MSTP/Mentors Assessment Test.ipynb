{
 "cells": [
  {
   "cell_type": "markdown",
   "metadata": {},
   "source": [
    "## Special Number"
   ]
  },
  {
   "cell_type": "markdown",
   "metadata": {},
   "source": [
    "- A Special number is a number which is the addition of two single digit odd primes of positive power\n",
    "\n",
    "    - sigle digit odd primes --> [3,5,7]\n",
    "\n",
    "    - 8 --> 3^1 + 5^1\n",
    "    - 10 --> 3^1 + 7^1\n",
    "    - 12 --> 5^1 + 7^1\n",
    "    - 14 --> 3^2 + 5^1\n",
    "    - 16 --> 3^2 + 7^1\n",
    "    - 28 --> 3^1 + 5^2\n",
    "    - 32 --> 5^2 + 7^1 or 3^3 + 5^1\n",
    "    - 34 --> 3^2 + 5^2"
   ]
  },
  {
   "cell_type": "code",
   "execution_count": 2,
   "metadata": {},
   "outputs": [
    {
     "data": {
      "text/plain": [
       "True"
      ]
     },
     "execution_count": 2,
     "metadata": {},
     "output_type": "execute_result"
    }
   ],
   "source": [
    "def specialNumber(n):\n",
    "    list3 = []\n",
    "    list5 = []\n",
    "    list7 = []\n",
    "    for i in range(1,11):\n",
    "        list3.append(3 ** i)\n",
    "        list5.append(5 ** i)\n",
    "        list7.append(7 ** i)\n",
    "    for i in range(10):\n",
    "        for j in range(10):\n",
    "            if list3[i]+list5[j]==n or list3[i]+list7[j]==n or list5[i]+list7[j]==n:\n",
    "                return True\n",
    "    return False\n",
    "specialNumber(34)"
   ]
  },
  {
   "cell_type": "code",
   "execution_count": 3,
   "metadata": {},
   "outputs": [],
   "source": [
    "## Convert a number to a special number by adding 1's\n",
    "\n",
    "def nextSpecialNumber(n):\n",
    "    c=0\n",
    "    while True:\n",
    "        n=n+1\n",
    "        c=c+1\n",
    "        if specialNumber(n):\n",
    "            break\n",
    "        \n",
    "    return c\n"
   ]
  },
  {
   "cell_type": "code",
   "execution_count": 34,
   "metadata": {},
   "outputs": [
    {
     "data": {
      "text/plain": [
       "1"
      ]
     },
     "execution_count": 34,
     "metadata": {},
     "output_type": "execute_result"
    }
   ],
   "source": [
    "## Convert a number to a special number by substracting 1's\n",
    "def prevSpecialNumber(n):\n",
    "    c=0\n",
    "    if n<8:\n",
    "        return False\n",
    "    elif n==8:\n",
    "        return c\n",
    "    else:\n",
    "        while True:\n",
    "            n=n-1\n",
    "            c=c+1\n",
    "            if specialNumber(n):\n",
    "                break\n",
    "        return c\n",
    "prevSpecialNumber(9)"
   ]
  },
  {
   "cell_type": "code",
   "execution_count": 40,
   "metadata": {},
   "outputs": [
    {
     "name": "stdout",
     "output_type": "stream",
     "text": [
      "1\n",
      "10\n",
      "2\n",
      "3\n",
      "2 2\n",
      "4\n"
     ]
    }
   ],
   "source": [
    "t=int(input())\n",
    "for i in range(t):\n",
    "    n=int(input())\n",
    "    dec_cost = int(input())\n",
    "    inc_cost = int(input())\n",
    "    nex=nextSpecialNumber(n)\n",
    "    prev=prevSpecialNumber(n)\n",
    "    print(nex,prev)\n",
    "    if prev:\n",
    "        if nex*inc_cost<prev*dec_cost:\n",
    "            print(nex*inc_cost)\n",
    "        else:\n",
    "            print(nex*dec_cost)\n",
    "    else:\n",
    "        print(nex*inc_cost)"
   ]
  },
  {
   "cell_type": "code",
   "execution_count": null,
   "metadata": {},
   "outputs": [],
   "source": []
  }
 ],
 "metadata": {
  "kernelspec": {
   "display_name": "Python 3",
   "language": "python",
   "name": "python3"
  },
  "language_info": {
   "codemirror_mode": {
    "name": "ipython",
    "version": 3
   },
   "file_extension": ".py",
   "mimetype": "text/x-python",
   "name": "python",
   "nbconvert_exporter": "python",
   "pygments_lexer": "ipython3",
   "version": "3.7.4"
  }
 },
 "nbformat": 4,
 "nbformat_minor": 2
}
