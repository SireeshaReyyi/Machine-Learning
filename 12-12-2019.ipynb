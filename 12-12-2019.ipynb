{
 "cells": [
  {
   "cell_type": "code",
   "execution_count": 1,
   "metadata": {},
   "outputs": [],
   "source": [
    "import mailbox, pandas as pd, numpy as np\n",
    "import matplotlib.pyplot as plt, matplotlib.font_manager as fm\n",
    "from dateutil.parser import parse as parse_datetime\n",
    "%matplotlib inline"
   ]
  },
  {
   "cell_type": "code",
   "execution_count": 2,
   "metadata": {},
   "outputs": [],
   "source": [
    "family = 'Myraid Pro'\n",
    "title_font = fm.FontProperties(family=family,style='normal',size=20,weight='normal',stretch='normal')\n",
    "label_font = fm.FontProperties(family=family,style='normal',size=16,weight='normal',stretch='normal')\n",
    "ticks_font = fm.FontProperties(family=family,style='normal',size=12,weight='normal',stretch='normal')\n"
   ]
  },
  {
   "cell_type": "code",
   "execution_count": 3,
   "metadata": {},
   "outputs": [
    {
     "name": "stdout",
     "output_type": "stream",
     "text": [
      "There are 430 messages in the archive.\n"
     ]
    },
    {
     "data": {
      "text/plain": [
       "<mailbox.mbox at 0x247151582b0>"
      ]
     },
     "execution_count": 3,
     "metadata": {},
     "output_type": "execute_result"
    }
   ],
   "source": [
    "path = 'mail.mbox'\n",
    "mbox = mailbox.mbox(path)\n",
    "print('There are {:,} messages in the archive.'.format(len(mbox)))\n",
    "mbox"
   ]
  },
  {
   "cell_type": "code",
   "execution_count": 5,
   "metadata": {},
   "outputs": [
    {
     "name": "stdout",
     "output_type": "stream",
     "text": [
      "There are 401 messages with dates\n"
     ]
    }
   ],
   "source": [
    "all_dates = []\n",
    "all_times = []\n",
    "for message in mbox:\n",
    "    if not 'X-Gmail-Labels' in message or ('X-Gmail-Labels' in message and \n",
    "                                           not 'Chat' in message['X-Gmail-Labels']):\n",
    "        if 'Date' in message and message['Date'] is not None:\n",
    "            try:\n",
    "                date,time=str(parse_datetime(message['Date'])).split(' ')\n",
    "            except Exception as e:\n",
    "                print(e,message['Date'])\n",
    "            all_dates.append(date)\n",
    "            all_times.append(time)\n",
    "        else:\n",
    "            pass\n",
    "print('There are {:,} messages with dates'.format(len(all_dates)))"
   ]
  },
  {
   "cell_type": "code",
   "execution_count": 12,
   "metadata": {},
   "outputs": [
    {
     "name": "stdout",
     "output_type": "stream",
     "text": [
      "Fri, 29 Nov 2019 03:44:42 +0530\n",
      "2019-11-29 03:44:42+05:30\n",
      "Fri, 06 Dec 2019 19:14:13 +0000 (UTC)\n",
      "2019-12-06 19:14:13+00:00\n",
      "Mon, 9 Dec 2019 03:29:41 +0530\n",
      "2019-12-09 03:29:41+05:30\n",
      "Tue, 10 Dec 2019 08:19:52 +0000\n",
      "2019-12-10 08:19:52+00:00\n",
      "Sun, 3 Nov 2019 14:28:12 +0530\n",
      "2019-11-03 14:28:12+05:30\n",
      "Thu, 14 Mar 2019 12:04:27 +0530\n",
      "2019-03-14 12:04:27+05:30\n",
      "Tue, 10 Dec 2019 14:45:55 +0530\n",
      "2019-12-10 14:45:55+05:30\n",
      "Tue, 5 Mar 2019 09:06:11 +0530\n",
      "2019-03-05 09:06:11+05:30\n",
      "Sun, 16 Jun 2019 11:10:10 +0530\n",
      "2019-06-16 11:10:10+05:30\n",
      "Wed, 3 Jul 2019 10:25:46 +0530\n",
      "2019-07-03 10:25:46+05:30\n",
      "Mon, 18 Nov 2019 15:20:26 +0000 (UTC)\n",
      "2019-11-18 15:20:26+00:00\n",
      "Fri, 3 May 2019 15:57:08 +0530\n",
      "2019-05-03 15:57:08+05:30\n",
      "Tue, 26 Nov 2019 03:41:55 +0000 (UTC)\n",
      "2019-11-26 03:41:55+00:00\n",
      "Wed, 04 Dec 2019 22:43:44 -0800\n",
      "2019-12-04 22:43:44-08:00\n",
      "Thu, 28 Nov 2019 08:11:41 +0530\n",
      "2019-11-28 08:11:41+05:30\n",
      "Thu, 12 Sep 2019 10:07:02 +0530\n",
      "2019-09-12 10:07:02+05:30\n",
      "Sat, 16 Nov 2019 09:32:14 +0000\n",
      "2019-11-16 09:32:14+00:00\n",
      "Tue, 12 Nov 2019 13:03:03 +0000\n",
      "2019-11-12 13:03:03+00:00\n",
      "Tue, 10 Dec 2019 04:30:00 +0000 (UTC)\n",
      "2019-12-10 04:30:00+00:00\n",
      "Thu, 7 Feb 2019 11:50:13 +0530\n",
      "2019-02-07 11:50:13+05:30\n",
      "Fri, 15 Nov 2019 11:52:12 +0000\n",
      "2019-11-15 11:52:12+00:00\n",
      "Fri, 15 Nov 2019 11:47:27 +0000\n",
      "2019-11-15 11:47:27+00:00\n",
      "Tue, 04 Jun 2019 05:30:31 +0000\n",
      "2019-06-04 05:30:31+00:00\n",
      "Sat, 30 Nov 2019 15:40:00 +0000 (UTC)\n",
      "2019-11-30 15:40:00+00:00\n",
      "Wed, 11 Dec 2019 10:18:49 +0530\n",
      "2019-12-11 10:18:49+05:30\n",
      "Thu, 25 Apr 2019 16:50:50 +0530\n",
      "2019-04-25 16:50:50+05:30\n",
      "Wed, 23 Jan 2019 20:56:26 +0530\n",
      "2019-01-23 20:56:26+05:30\n",
      "Mon, 31 Dec 2018 18:25:36 +0530\n",
      "2018-12-31 18:25:36+05:30\n",
      "Thu, 12 Sep 2019 09:28:18 +0530\n",
      "2019-09-12 09:28:18+05:30\n",
      "Thu, 12 Sep 2019 09:34:06 +0530\n",
      "2019-09-12 09:34:06+05:30\n",
      "Sat, 17 Aug 2019 05:38:15 +0000\n",
      "2019-08-17 05:38:15+00:00\n",
      "Thu, 05 Dec 2019 21:47:23 +0000 (UTC)\n",
      "2019-12-05 21:47:23+00:00\n",
      "Sat, 23 Nov 2019 09:50:22 +0000\n",
      "2019-11-23 09:50:22+00:00\n",
      "Thu, 12 Sep 2019 09:20:57 +0530\n",
      "2019-09-12 09:20:57+05:30\n",
      "Tue, 10 Dec 2019 04:40:29 -0800\n",
      "2019-12-10 04:40:29-08:00\n",
      "Thu, 12 Sep 2019 10:07:26 +0530\n",
      "2019-09-12 10:07:26+05:30\n",
      "Tue, 19 Nov 2019 21:28:32 +0530\n",
      "2019-11-19 21:28:32+05:30\n",
      "Sat, 21 Sep 2019 15:39:25 +0530\n",
      "2019-09-21 15:39:25+05:30\n",
      "Mon, 18 Mar 2019 15:02:25 +0530\n",
      "2019-03-18 15:02:25+05:30\n",
      "Sat, 30 Nov 2019 11:36:06 +0000\n",
      "2019-11-30 11:36:06+00:00\n",
      "Mon, 26 Aug 2019 04:33:52 -0500 (CDT)\n",
      "2019-08-26 04:33:52-05:00\n",
      "Wed, 4 Dec 2019 04:49:24 +0530\n",
      "2019-12-04 04:49:24+05:30\n",
      "Wed, 13 Nov 2019 04:36:02 +0000\n",
      "2019-11-13 04:36:02+00:00\n",
      "Fri,  6 Dec 2019 06:28:47 +0000\n",
      "2019-12-06 06:28:47+00:00\n",
      "Sat, 30 Nov 2019 10:09:04 +0530\n",
      "2019-11-30 10:09:04+05:30\n",
      "Sun, 24 Nov 2019 07:03:29 +0000 (UTC)\n",
      "2019-11-24 07:03:29+00:00\n",
      "Tue, 10 Dec 2019 10:52:59 +0000\n",
      "2019-12-10 10:52:59+00:00\n",
      "Thu, 27 Jun 2019 16:55:56 +0530\n",
      "2019-06-27 16:55:56+05:30\n",
      "Thu, 07 Nov 2019 05:17:00 +0000 (UTC)\n",
      "2019-11-07 05:17:00+00:00\n",
      "Thu, 07 Nov 2019 05:17:00 +0000 (UTC)\n",
      "2019-11-07 05:17:00+00:00\n",
      "Wed, 27 Nov 2019 16:05:00 +0000 (UTC)\n",
      "2019-11-27 16:05:00+00:00\n",
      "Wed, 24 Jul 2019 16:54:17 +0530\n",
      "2019-07-24 16:54:17+05:30\n",
      "Mon, 11 Nov 2019 09:52:49 +0530\n",
      "2019-11-11 09:52:49+05:30\n",
      "Mon, 09 Dec 2019 16:15:00 +0000 (UTC)\n",
      "2019-12-09 16:15:00+00:00\n",
      "Tue, 10 Dec 2019 02:33:18 +0000 (UTC)\n",
      "2019-12-10 02:33:18+00:00\n",
      "None\n"
     ]
    },
    {
     "ename": "TypeError",
     "evalue": "Parser must be a string or character stream, not NoneType",
     "output_type": "error",
     "traceback": [
      "\u001b[1;31m---------------------------------------------------------------------------\u001b[0m",
      "\u001b[1;31mTypeError\u001b[0m                                 Traceback (most recent call last)",
      "\u001b[1;32m<ipython-input-12-239ca3fda5ae>\u001b[0m in \u001b[0;36m<module>\u001b[1;34m\u001b[0m\n\u001b[0;32m      1\u001b[0m \u001b[1;32mfor\u001b[0m \u001b[0mmes\u001b[0m \u001b[1;32min\u001b[0m \u001b[0mmbox\u001b[0m\u001b[1;33m:\u001b[0m\u001b[1;33m\u001b[0m\u001b[1;33m\u001b[0m\u001b[0m\n\u001b[0;32m      2\u001b[0m     \u001b[0mprint\u001b[0m\u001b[1;33m(\u001b[0m\u001b[0mmes\u001b[0m\u001b[1;33m[\u001b[0m\u001b[1;34m'Date'\u001b[0m\u001b[1;33m]\u001b[0m\u001b[1;33m)\u001b[0m\u001b[1;33m\u001b[0m\u001b[1;33m\u001b[0m\u001b[0m\n\u001b[1;32m----> 3\u001b[1;33m     \u001b[0mprint\u001b[0m\u001b[1;33m(\u001b[0m\u001b[0mparse_datetime\u001b[0m\u001b[1;33m(\u001b[0m\u001b[0mmes\u001b[0m\u001b[1;33m[\u001b[0m\u001b[1;34m'Date'\u001b[0m\u001b[1;33m]\u001b[0m\u001b[1;33m)\u001b[0m\u001b[1;33m)\u001b[0m\u001b[1;33m\u001b[0m\u001b[1;33m\u001b[0m\u001b[0m\n\u001b[0m",
      "\u001b[1;32m~\\Anaconda3\\lib\\site-packages\\dateutil\\parser\\_parser.py\u001b[0m in \u001b[0;36mparse\u001b[1;34m(timestr, parserinfo, **kwargs)\u001b[0m\n\u001b[0;32m   1356\u001b[0m         \u001b[1;32mreturn\u001b[0m \u001b[0mparser\u001b[0m\u001b[1;33m(\u001b[0m\u001b[0mparserinfo\u001b[0m\u001b[1;33m)\u001b[0m\u001b[1;33m.\u001b[0m\u001b[0mparse\u001b[0m\u001b[1;33m(\u001b[0m\u001b[0mtimestr\u001b[0m\u001b[1;33m,\u001b[0m \u001b[1;33m**\u001b[0m\u001b[0mkwargs\u001b[0m\u001b[1;33m)\u001b[0m\u001b[1;33m\u001b[0m\u001b[1;33m\u001b[0m\u001b[0m\n\u001b[0;32m   1357\u001b[0m     \u001b[1;32melse\u001b[0m\u001b[1;33m:\u001b[0m\u001b[1;33m\u001b[0m\u001b[1;33m\u001b[0m\u001b[0m\n\u001b[1;32m-> 1358\u001b[1;33m         \u001b[1;32mreturn\u001b[0m \u001b[0mDEFAULTPARSER\u001b[0m\u001b[1;33m.\u001b[0m\u001b[0mparse\u001b[0m\u001b[1;33m(\u001b[0m\u001b[0mtimestr\u001b[0m\u001b[1;33m,\u001b[0m \u001b[1;33m**\u001b[0m\u001b[0mkwargs\u001b[0m\u001b[1;33m)\u001b[0m\u001b[1;33m\u001b[0m\u001b[1;33m\u001b[0m\u001b[0m\n\u001b[0m\u001b[0;32m   1359\u001b[0m \u001b[1;33m\u001b[0m\u001b[0m\n\u001b[0;32m   1360\u001b[0m \u001b[1;33m\u001b[0m\u001b[0m\n",
      "\u001b[1;32m~\\Anaconda3\\lib\\site-packages\\dateutil\\parser\\_parser.py\u001b[0m in \u001b[0;36mparse\u001b[1;34m(self, timestr, default, ignoretz, tzinfos, **kwargs)\u001b[0m\n\u001b[0;32m    644\u001b[0m                                                       second=0, microsecond=0)\n\u001b[0;32m    645\u001b[0m \u001b[1;33m\u001b[0m\u001b[0m\n\u001b[1;32m--> 646\u001b[1;33m         \u001b[0mres\u001b[0m\u001b[1;33m,\u001b[0m \u001b[0mskipped_tokens\u001b[0m \u001b[1;33m=\u001b[0m \u001b[0mself\u001b[0m\u001b[1;33m.\u001b[0m\u001b[0m_parse\u001b[0m\u001b[1;33m(\u001b[0m\u001b[0mtimestr\u001b[0m\u001b[1;33m,\u001b[0m \u001b[1;33m**\u001b[0m\u001b[0mkwargs\u001b[0m\u001b[1;33m)\u001b[0m\u001b[1;33m\u001b[0m\u001b[1;33m\u001b[0m\u001b[0m\n\u001b[0m\u001b[0;32m    647\u001b[0m \u001b[1;33m\u001b[0m\u001b[0m\n\u001b[0;32m    648\u001b[0m         \u001b[1;32mif\u001b[0m \u001b[0mres\u001b[0m \u001b[1;32mis\u001b[0m \u001b[1;32mNone\u001b[0m\u001b[1;33m:\u001b[0m\u001b[1;33m\u001b[0m\u001b[1;33m\u001b[0m\u001b[0m\n",
      "\u001b[1;32m~\\Anaconda3\\lib\\site-packages\\dateutil\\parser\\_parser.py\u001b[0m in \u001b[0;36m_parse\u001b[1;34m(self, timestr, dayfirst, yearfirst, fuzzy, fuzzy_with_tokens)\u001b[0m\n\u001b[0;32m    720\u001b[0m \u001b[1;33m\u001b[0m\u001b[0m\n\u001b[0;32m    721\u001b[0m         \u001b[0mres\u001b[0m \u001b[1;33m=\u001b[0m \u001b[0mself\u001b[0m\u001b[1;33m.\u001b[0m\u001b[0m_result\u001b[0m\u001b[1;33m(\u001b[0m\u001b[1;33m)\u001b[0m\u001b[1;33m\u001b[0m\u001b[1;33m\u001b[0m\u001b[0m\n\u001b[1;32m--> 722\u001b[1;33m         \u001b[0ml\u001b[0m \u001b[1;33m=\u001b[0m \u001b[0m_timelex\u001b[0m\u001b[1;33m.\u001b[0m\u001b[0msplit\u001b[0m\u001b[1;33m(\u001b[0m\u001b[0mtimestr\u001b[0m\u001b[1;33m)\u001b[0m         \u001b[1;31m# Splits the timestr into tokens\u001b[0m\u001b[1;33m\u001b[0m\u001b[1;33m\u001b[0m\u001b[0m\n\u001b[0m\u001b[0;32m    723\u001b[0m \u001b[1;33m\u001b[0m\u001b[0m\n\u001b[0;32m    724\u001b[0m         \u001b[0mskipped_idxs\u001b[0m \u001b[1;33m=\u001b[0m \u001b[1;33m[\u001b[0m\u001b[1;33m]\u001b[0m\u001b[1;33m\u001b[0m\u001b[1;33m\u001b[0m\u001b[0m\n",
      "\u001b[1;32m~\\Anaconda3\\lib\\site-packages\\dateutil\\parser\\_parser.py\u001b[0m in \u001b[0;36msplit\u001b[1;34m(cls, s)\u001b[0m\n\u001b[0;32m    205\u001b[0m     \u001b[1;33m@\u001b[0m\u001b[0mclassmethod\u001b[0m\u001b[1;33m\u001b[0m\u001b[1;33m\u001b[0m\u001b[0m\n\u001b[0;32m    206\u001b[0m     \u001b[1;32mdef\u001b[0m \u001b[0msplit\u001b[0m\u001b[1;33m(\u001b[0m\u001b[0mcls\u001b[0m\u001b[1;33m,\u001b[0m \u001b[0ms\u001b[0m\u001b[1;33m)\u001b[0m\u001b[1;33m:\u001b[0m\u001b[1;33m\u001b[0m\u001b[1;33m\u001b[0m\u001b[0m\n\u001b[1;32m--> 207\u001b[1;33m         \u001b[1;32mreturn\u001b[0m \u001b[0mlist\u001b[0m\u001b[1;33m(\u001b[0m\u001b[0mcls\u001b[0m\u001b[1;33m(\u001b[0m\u001b[0ms\u001b[0m\u001b[1;33m)\u001b[0m\u001b[1;33m)\u001b[0m\u001b[1;33m\u001b[0m\u001b[1;33m\u001b[0m\u001b[0m\n\u001b[0m\u001b[0;32m    208\u001b[0m \u001b[1;33m\u001b[0m\u001b[0m\n\u001b[0;32m    209\u001b[0m     \u001b[1;33m@\u001b[0m\u001b[0mclassmethod\u001b[0m\u001b[1;33m\u001b[0m\u001b[1;33m\u001b[0m\u001b[0m\n",
      "\u001b[1;32m~\\Anaconda3\\lib\\site-packages\\dateutil\\parser\\_parser.py\u001b[0m in \u001b[0;36m__init__\u001b[1;34m(self, instream)\u001b[0m\n\u001b[0;32m     74\u001b[0m         \u001b[1;32melif\u001b[0m \u001b[0mgetattr\u001b[0m\u001b[1;33m(\u001b[0m\u001b[0minstream\u001b[0m\u001b[1;33m,\u001b[0m \u001b[1;34m'read'\u001b[0m\u001b[1;33m,\u001b[0m \u001b[1;32mNone\u001b[0m\u001b[1;33m)\u001b[0m \u001b[1;32mis\u001b[0m \u001b[1;32mNone\u001b[0m\u001b[1;33m:\u001b[0m\u001b[1;33m\u001b[0m\u001b[1;33m\u001b[0m\u001b[0m\n\u001b[0;32m     75\u001b[0m             raise TypeError('Parser must be a string or character stream, not '\n\u001b[1;32m---> 76\u001b[1;33m                             '{itype}'.format(itype=instream.__class__.__name__))\n\u001b[0m\u001b[0;32m     77\u001b[0m \u001b[1;33m\u001b[0m\u001b[0m\n\u001b[0;32m     78\u001b[0m         \u001b[0mself\u001b[0m\u001b[1;33m.\u001b[0m\u001b[0minstream\u001b[0m \u001b[1;33m=\u001b[0m \u001b[0minstream\u001b[0m\u001b[1;33m\u001b[0m\u001b[1;33m\u001b[0m\u001b[0m\n",
      "\u001b[1;31mTypeError\u001b[0m: Parser must be a string or character stream, not NoneType"
     ]
    }
   ],
   "source": [
    "for mes in mbox:\n",
    "    print(mes['Date'])\n",
    "    print(parse_datetime(mes['Date']))"
   ]
  },
  {
   "cell_type": "markdown",
   "metadata": {},
   "source": [
    "## Plot the Gmail Traffic by Date"
   ]
  },
  {
   "cell_type": "code",
   "execution_count": 13,
   "metadata": {},
   "outputs": [
    {
     "name": "stdout",
     "output_type": "stream",
     "text": [
      "There are 132 dates with messages\n"
     ]
    },
    {
     "data": {
      "text/plain": [
       "2017-11-03     1\n",
       "2018-09-05     1\n",
       "2018-12-12     1\n",
       "2018-12-31     2\n",
       "2019-01-01     1\n",
       "2019-01-02     2\n",
       "2019-01-03     1\n",
       "2019-01-15     1\n",
       "2019-01-19     1\n",
       "2019-01-22     3\n",
       "2019-01-23     1\n",
       "2019-01-24     1\n",
       "2019-01-25     1\n",
       "2019-01-29     2\n",
       "2019-02-02     1\n",
       "2019-02-07     1\n",
       "2019-02-08     1\n",
       "2019-02-10     1\n",
       "2019-02-13     1\n",
       "2019-02-21     1\n",
       "2019-02-22     1\n",
       "2019-02-26     1\n",
       "2019-03-04     1\n",
       "2019-03-05     2\n",
       "2019-03-11     3\n",
       "2019-03-12     1\n",
       "2019-03-14     4\n",
       "2019-03-15     2\n",
       "2019-03-16     1\n",
       "2019-03-18     2\n",
       "              ..\n",
       "2019-11-13     3\n",
       "2019-11-14     9\n",
       "2019-11-15     7\n",
       "2019-11-16     5\n",
       "2019-11-17     4\n",
       "2019-11-18     8\n",
       "2019-11-19    10\n",
       "2019-11-20     6\n",
       "2019-11-21     4\n",
       "2019-11-22    10\n",
       "2019-11-23     4\n",
       "2019-11-24     5\n",
       "2019-11-25     8\n",
       "2019-11-26     3\n",
       "2019-11-27    12\n",
       "2019-11-28    13\n",
       "2019-11-29     8\n",
       "2019-11-30     6\n",
       "2019-12-01     4\n",
       "2019-12-02     6\n",
       "2019-12-03     5\n",
       "2019-12-04    11\n",
       "2019-12-05     5\n",
       "2019-12-06    10\n",
       "2019-12-07     4\n",
       "2019-12-08     3\n",
       "2019-12-09     7\n",
       "2019-12-10    14\n",
       "2019-12-11     5\n",
       "2019-12-12     4\n",
       "Length: 132, dtype: int64"
      ]
     },
     "execution_count": 13,
     "metadata": {},
     "output_type": "execute_result"
    }
   ],
   "source": [
    "# get the count per date\n",
    "date_counts = pd.Series(all_dates).value_counts().sort_index()\n",
    "print('There are {:,} dates with messages'.format(len(date_counts)))\n",
    "c = date_counts\n",
    "c"
   ]
  },
  {
   "cell_type": "code",
   "execution_count": 29,
   "metadata": {},
   "outputs": [
    {
     "name": "stdout",
     "output_type": "stream",
     "text": [
      "There are 770 dates total in the range, with or without messages.\n"
     ]
    },
    {
     "data": {
      "text/plain": [
       "2017-11-03     1\n",
       "2017-11-04     0\n",
       "2017-11-05     0\n",
       "2017-11-06     0\n",
       "2017-11-07     0\n",
       "2017-11-08     0\n",
       "2017-11-09     0\n",
       "2017-11-10     0\n",
       "2017-11-11     0\n",
       "2017-11-12     0\n",
       "2017-11-13     0\n",
       "2017-11-14     0\n",
       "2017-11-15     0\n",
       "2017-11-16     0\n",
       "2017-11-17     0\n",
       "2017-11-18     0\n",
       "2017-11-19     0\n",
       "2017-11-20     0\n",
       "2017-11-21     0\n",
       "2017-11-22     0\n",
       "2017-11-23     0\n",
       "2017-11-24     0\n",
       "2017-11-25     0\n",
       "2017-11-26     0\n",
       "2017-11-27     0\n",
       "2017-11-28     0\n",
       "2017-11-29     0\n",
       "2017-11-30     0\n",
       "2017-12-01     0\n",
       "2017-12-02     0\n",
       "              ..\n",
       "2019-11-13     3\n",
       "2019-11-14     9\n",
       "2019-11-15     7\n",
       "2019-11-16     5\n",
       "2019-11-17     4\n",
       "2019-11-18     8\n",
       "2019-11-19    10\n",
       "2019-11-20     6\n",
       "2019-11-21     4\n",
       "2019-11-22    10\n",
       "2019-11-23     4\n",
       "2019-11-24     5\n",
       "2019-11-25     8\n",
       "2019-11-26     3\n",
       "2019-11-27    12\n",
       "2019-11-28    13\n",
       "2019-11-29     8\n",
       "2019-11-30     6\n",
       "2019-12-01     4\n",
       "2019-12-02     6\n",
       "2019-12-03     5\n",
       "2019-12-04    11\n",
       "2019-12-05     5\n",
       "2019-12-06    10\n",
       "2019-12-07     4\n",
       "2019-12-08     3\n",
       "2019-12-09     7\n",
       "2019-12-10    14\n",
       "2019-12-11     5\n",
       "2019-12-12     4\n",
       "Length: 770, dtype: int64"
      ]
     },
     "execution_count": 29,
     "metadata": {},
     "output_type": "execute_result"
    }
   ],
   "source": [
    "# not every date necessarily has a message\n",
    "# so fill the missing dates in the range with zeros\n",
    "date_range = pd.date_range(start=min(all_dates),end=max(all_dates),freq='D')\n",
    "index = date_range.map(lambda x:str(x.date()))\n",
    "date_counts = date_counts.reindex(index,fill_value=0)\n",
    "print('There are {:,} dates total in the range, with or without messages.'.format(len(date_counts)))\n",
    "date_counts"
   ]
  },
  {
   "cell_type": "code",
   "execution_count": 32,
   "metadata": {},
   "outputs": [
    {
     "data": {
      "text/plain": [
       "59     2018-01-01\n",
       "424    2019-01-01\n",
       "dtype: object"
      ]
     },
     "execution_count": 32,
     "metadata": {},
     "output_type": "execute_result"
    }
   ],
   "source": [
    "# create a series of labels for the plot: each new year's data\n",
    "xlabels = pd.Series([label if '01-01' in label else None for label in date_counts.index])\n",
    "xlabels = xlabels[pd.notnull(xlabels)]\n",
    "xlabels"
   ]
  },
  {
   "cell_type": "code",
   "execution_count": 48,
   "metadata": {},
   "outputs": [
    {
     "data": {
      "image/png": "[encoded data removed]",
      "text/plain": [
       "<Figure size 1080x360 with 1 Axes>"
      ]
     },
     "metadata": {
      "needs_background": "light"
     },
     "output_type": "display_data"
    }
   ],
   "source": [
    "# plot the couunts per day\n",
    "fig = plt.figure(figsize=[15,5])\n",
    "ax = date_counts.plot(kind='line',linewidth=0.5,alpha=1,color='g')\n",
    "\n",
    "ax.set_ylim(bottom=0)\n",
    "ax.grid(True,linestyle='--')\n",
    "ax.set_xticks(xlabels.index)\n",
    "ax.set_xticklabels(xlabels,rotation=35,rotation_mode='anchor',\n",
    "                  ha='right',fontproperties=ticks_font) #  ha --> horizontal alignment\n",
    "ax.set_ylabel('Number of emails',fontproperties=ticks_font)\n",
    "ax.set_title('Gmail traffic per day', fontproperties=title_font)\n",
    "fig.tight_layout()\n",
    "fig.savefig('gmail-traffic-day.png',dpi=96)\n",
    "plt.show()"
   ]
  },
  {
   "cell_type": "code",
   "execution_count": null,
   "metadata": {},
   "outputs": [],
   "source": []
  }
 ],
 "metadata": {
  "kernelspec": {
   "display_name": "Python 3",
   "language": "python",
   "name": "python3"
  },
  "language_info": {
   "codemirror_mode": {
    "name": "ipython",
    "version": 3
   },
   "file_extension": ".py",
   "mimetype": "text/x-python",
   "name": "python",
   "nbconvert_exporter": "python",
   "pygments_lexer": "ipython3",
   "version": "3.7.3"
  }
 },
 "nbformat": 4,
 "nbformat_minor": 2
}
